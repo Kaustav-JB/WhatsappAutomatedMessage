{
 "cells": [
  {
   "cell_type": "code",
   "execution_count": 1,
   "metadata": {},
   "outputs": [],
   "source": [
    "from twilio.rest import Client\n",
    "from datetime import datetime, timedelta\n",
    "import time"
   ]
  },
  {
   "cell_type": "code",
   "execution_count": 2,
   "metadata": {},
   "outputs": [],
   "source": [
    "account_sid = \"YOUR_ACCOUNT_SID\"\n",
    "auth_token = \"AUTH_TOKEN\"\n",
    "client = Client(account_sid, auth_token)\n",
    "whatsapp_num = 'TWILIO_NUMBER'"
   ]
  },
  {
   "cell_type": "code",
   "execution_count": 4,
   "metadata": {},
   "outputs": [
    {
     "name": "stdout",
     "output_type": "stream",
     "text": [
      "Message scheduled at 2024-12-23 23:57:00 for Unknown\n",
      "Message sent! Message SID :SM9df07a7231330663ed685e435457d457\n"
     ]
    }
   ],
   "source": [
    "def send_whatsapp_message(recipient_number, message_body):\n",
    "    try:\n",
    "        message = client.messages.create(\n",
    "            from_ = f'whatsapp:{whatsapp_num}',\n",
    "            body = message_body,\n",
    "            to = f'whatsapp:{recipient_number}'\n",
    "        )\n",
    "        print(f\"Message sent! Message SID :{message.sid}\")\n",
    "    except Exception as e:\n",
    "        print(f\"Error code : {e}\")\n",
    "\n",
    "name = input(\"Enter the recipient name : \")\n",
    "recipient_number = input(\"Enter the receiver's number (with country code, e.g., +91) : \")\n",
    "message_body = input(f\"Enter the message you want to send to {name}: \")\n",
    "\n",
    "date_str = input(\"Enter the date you want to send at (YYYY-MM-DD) : \")\n",
    "time_str = input(\"Enter the time you want to send at (HH:MM, 24-hour-format) : \")\n",
    "\n",
    "schedule_datetime = datetime.strptime(f'{date_str} {time_str}', '%Y-%m-%d %H:%M')\n",
    "current_datetime = datetime.now()\n",
    "\n",
    "time_diff = schedule_datetime - current_datetime\n",
    "delay_seconds = time_diff.total_seconds()\n",
    "\n",
    "if delay_seconds <= 0:\n",
    "    print(\"The time given is in the past. \\nPlease give a future timing!\")\n",
    "else:\n",
    "    print(f\"Message scheduled at {schedule_datetime} for {name}\")\n",
    "\n",
    "    time.sleep(delay_seconds)\n",
    "\n",
    "    send_whatsapp_message(recipient_number, message_body)"
   ]
  }
 ],
 "metadata": {
  "kernelspec": {
   "display_name": "Python 3",
   "language": "python",
   "name": "python3"
  },
  "language_info": {
   "codemirror_mode": {
    "name": "ipython",
    "version": 3
   },
   "file_extension": ".py",
   "mimetype": "text/x-python",
   "name": "python",
   "nbconvert_exporter": "python",
   "pygments_lexer": "ipython3",
   "version": "3.9.13"
  }
 },
 "nbformat": 4,
 "nbformat_minor": 2
}
